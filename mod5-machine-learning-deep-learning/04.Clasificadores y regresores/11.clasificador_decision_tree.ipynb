{
 "cells": [
  {
   "attachments": {
    "ml_19.png": {
     "image/png": "[encoded data removed]"
    }
   },
   "cell_type": "markdown",
   "id": "08bd7339",
   "metadata": {},
   "source": [
    "## Decision Trees (Arboles de Decisión)\n",
    "\n",
    "![ml_19.png](attachment:ml_19.png)\n",
    "\n",
    "Los Arboles de Decisión (o Decision Trees) es un algoritmos de regresión y clasificación basado en condicionales.\n",
    "\n",
    "Se construyen utilizando dos tipos de elementos: **nodos y ramas**. En cada nodo, se evalúa una de las características (atributo) de nuestros datos para dividir las observaciones en el proceso de entrenamiento o para hacer que un punto de datos específico siga un camino determinado al hacer una predicción.\n",
    "\n",
    "Cuando se están generando, los árboles de decisión se construyen evaluando recursivamente diferentes características (atributos) y utilizando en cada nodo la característica que mejor divide los datos."
   ]
  },
  {
   "attachments": {
    "ml_20.png": {
     "image/png": "[encoded data removed]"
    }
   },
   "cell_type": "markdown",
   "id": "479d284d",
   "metadata": {},
   "source": [
    "![ml_20.png](attachment:ml_20.png)"
   ]
  },
  {
   "attachments": {
    "ml_21.png": {
     "image/png": "[encoded data removed]"
    }
   },
   "cell_type": "markdown",
   "id": "fc838ae6",
   "metadata": {},
   "source": [
    "![ml_21.png](attachment:ml_21.png)\n",
    "\n",
    "\n",
    "___\n",
    "\n",
    "- **El nodo raíz (root node)**: Es el nodo que inicia el grafo. En un árbol de decisión normal evalúa la variable que mejor divide los datos.\n",
    "\n",
    "\n",
    "\n",
    "- **Los nodos intermedios (nodes)**: Son nodos donde se evalúan variables pero que no son los nodos finales donde se realizan las predicciones.\n",
    "\n",
    "\n",
    "\n",
    "- **Los nodos hoja (leaf node)**: Son los nodos finales del árbol, donde se realizan las predicciones de una categoría o un valor numérico.\n",
    "\n",
    "\n",
    "Los árboles de decisión se construyen dividiendo recursivamente las muestras del conjunto de entrenamiento utilizando una función de error. Esto se hace evaluando ciertas métricas, como el **índice de Gini** o la **Entropía** para árboles de decisión categóricos, o el **error cuadrático medio** o **error Residual** para árboles de regresión.\n",
    "\n",
    "_**Documentación:** https://scikit-learn.org/stable/modules/generated/sklearn.tree.DecisionTreeClassifier.html_"
   ]
  },
  {
   "cell_type": "code",
   "execution_count": null,
   "id": "ce58b1ab",
   "metadata": {},
   "outputs": [],
   "source": [
    "import numpy as np\n",
    "import pandas as pd\n",
    "import matplotlib.pyplot as plt\n",
    "import seaborn as sns\n",
    "\n",
    "from sklearn import datasets\n",
    "\n",
    "# Normalizacion\n",
    "from sklearn.preprocessing import MinMaxScaler\n",
    "\n",
    "# Train, Test\n",
    "from sklearn.model_selection import train_test_split\n",
    "\n",
    "# Metricas\n",
    "from sklearn.metrics import jaccard_score\n",
    "from sklearn.metrics import accuracy_score\n",
    "from sklearn.metrics import precision_score\n",
    "from sklearn.metrics import recall_score\n",
    "from sklearn.metrics import f1_score\n",
    "from sklearn.metrics import roc_auc_score\n",
    "\n",
    "from sklearn.metrics import confusion_matrix\n",
    "from sklearn.metrics import classification_report"
   ]
  },
  {
   "cell_type": "code",
   "execution_count": null,
   "id": "05beaa2f",
   "metadata": {},
   "outputs": [],
   "source": [
    "iris = datasets.load_iris()\n",
    "X = iris.data\n",
    "y = iris.target"
   ]
  },
  {
   "cell_type": "markdown",
   "id": "236b6a17",
   "metadata": {},
   "source": [
    "### Procesamiento"
   ]
  },
  {
   "cell_type": "code",
   "execution_count": null,
   "id": "40968bd5",
   "metadata": {},
   "outputs": [],
   "source": [
    "# Normalización de datos\n",
    "\n",
    "x_scaler = MinMaxScaler()\n",
    "X = x_scaler.fit_transform(X)\n",
    "\n",
    "X"
   ]
  },
  {
   "cell_type": "markdown",
   "id": "20ff6d52",
   "metadata": {},
   "source": [
    "### Train, Test"
   ]
  },
  {
   "cell_type": "code",
   "execution_count": null,
   "id": "2126a827",
   "metadata": {},
   "outputs": [],
   "source": [
    "X_train, X_test, y_train, y_test = train_test_split(X, y, test_size = 0.3, random_state = 42)\n",
    "\n",
    "print(f\"X_train: {X_train.shape}, y_train: {y_train.shape}\")\n",
    "print(f\"X_test: {X_test.shape},  y_test: {y_test.shape}\")"
   ]
  },
  {
   "cell_type": "markdown",
   "id": "99b53509",
   "metadata": {},
   "source": [
    "### Modelo"
   ]
  },
  {
   "cell_type": "code",
   "execution_count": null,
   "id": "acf172bf",
   "metadata": {},
   "outputs": [],
   "source": [
    "from sklearn.tree import DecisionTreeClassifier"
   ]
  },
  {
   "cell_type": "code",
   "execution_count": null,
   "id": "3cc0bec3",
   "metadata": {},
   "outputs": [],
   "source": [
    "model = DecisionTreeClassifier()\n",
    "model.fit(X_train, y_train)"
   ]
  },
  {
   "cell_type": "markdown",
   "id": "31719737",
   "metadata": {},
   "source": [
    "### Predicciones"
   ]
  },
  {
   "cell_type": "code",
   "execution_count": null,
   "id": "355e6e5e",
   "metadata": {},
   "outputs": [],
   "source": [
    "yhat = model.predict(X_test)\n",
    "\n",
    "yhat"
   ]
  },
  {
   "cell_type": "code",
   "execution_count": null,
   "id": "65b695ac",
   "metadata": {},
   "outputs": [],
   "source": [
    "print(\"Jaccard Index:\", jaccard_score(y_test, yhat, average = \"macro\"))\n",
    "print(\"Accuracy:\"     , accuracy_score(y_test, yhat))\n",
    "print(\"Precisión:\"    , precision_score(y_test, yhat, average = \"macro\"))\n",
    "print(\"Sensibilidad:\" , recall_score(y_test, yhat, average = \"macro\"))\n",
    "print(\"F1-score:\"     , f1_score(y_test, yhat, average = \"macro\"))"
   ]
  },
  {
   "cell_type": "markdown",
   "id": "7a764d04",
   "metadata": {},
   "source": [
    "### Confusion Matrix"
   ]
  },
  {
   "cell_type": "code",
   "execution_count": null,
   "id": "25337b72",
   "metadata": {},
   "outputs": [],
   "source": [
    "confusion_matrix(y_test, yhat, labels = [0, 1, 2])"
   ]
  },
  {
   "cell_type": "markdown",
   "id": "b233005e",
   "metadata": {},
   "source": [
    "### Classification Report"
   ]
  },
  {
   "cell_type": "code",
   "execution_count": null,
   "id": "01349273",
   "metadata": {},
   "outputs": [],
   "source": [
    "print(classification_report(y_test, yhat, digits = 3))"
   ]
  },
  {
   "cell_type": "markdown",
   "id": "aec7ad60",
   "metadata": {},
   "source": [
    "### Atributos y Métodos"
   ]
  },
  {
   "cell_type": "code",
   "execution_count": null,
   "id": "06fb0f79",
   "metadata": {
    "scrolled": true
   },
   "outputs": [],
   "source": [
    "# .predict_proba()\n",
    "\n",
    "model.predict_proba(X_test)"
   ]
  },
  {
   "cell_type": "code",
   "execution_count": null,
   "id": "063e046c",
   "metadata": {},
   "outputs": [],
   "source": [
    "# .feature_importances_ es un atributo que retorna un array con las importancias de cada columna\n",
    "# En este caso como entrenamos con 4 columnas tenemos un array de 4 elementos.\n",
    "\n",
    "model.feature_importances_"
   ]
  },
  {
   "cell_type": "code",
   "execution_count": null,
   "id": "0e989d87",
   "metadata": {},
   "outputs": [],
   "source": [
    "# Bucle \"columna\" vs \"importancia\"\n",
    "\n",
    "for col, imp in zip(iris.feature_names, model.feature_importances_):\n",
    "    print(f\"Columna: {col} Importancia: {imp}\")"
   ]
  },
  {
   "cell_type": "code",
   "execution_count": null,
   "id": "7b5c7e4f",
   "metadata": {},
   "outputs": [],
   "source": [
    "# La función plot_tree() genera un grafico del modelo\n",
    "# Toma como parámetro el modelo ya entrenado\n",
    "\n",
    "from sklearn.tree import plot_tree\n",
    "\n",
    "plt.figure(figsize = (100, 200))\n",
    "\n",
    "plot_tree(model) \n",
    "\n",
    "plt.savefig(\"iris_decision_tree.jpg\")\n",
    "\n",
    "plt.show()"
   ]
  },
  {
   "cell_type": "code",
   "execution_count": null,
   "id": "07a7e2e5",
   "metadata": {},
   "outputs": [],
   "source": [
    "# Parametros del Modelo, definidos por defecto\n",
    "\n",
    "print(f\"criterion: {model.criterion}\")\n",
    "print(f\"splitter: {model.splitter}\")\n",
    "print(f\"max_depth: {model.max_depth}\")\n",
    "print(f\"min_samples_split: {model.min_samples_split}\")\n",
    "print(f\"min_samples_leaf: {model.min_samples_leaf}\")\n",
    "print(f\"min_weight_fraction_leaf: {model.min_weight_fraction_leaf}\")\n",
    "print(f\"max_features: {model.max_features}\")\n",
    "print(f\"random_state: {model.random_state}\")\n",
    "print(f\"max_leaf_nodes: {model.max_leaf_nodes}\")\n",
    "print(f\"min_impurity_decrease: {model.min_impurity_decrease}\")\n",
    "print(f\"class_weight: {model.class_weight}\")\n",
    "print(f\"ccp_alpha: {model.ccp_alpha}\")"
   ]
  },
  {
   "cell_type": "code",
   "execution_count": null,
   "id": "190fc644",
   "metadata": {},
   "outputs": [],
   "source": [
    "# .get_params() retorna un diccionario con los parametros del modelo\n",
    "\n",
    "model.get_params()"
   ]
  },
  {
   "cell_type": "code",
   "execution_count": null,
   "id": "5f0a6500",
   "metadata": {},
   "outputs": [],
   "source": [
    "print(f\"Profundidad: {model.get_depth()}\")\n",
    "print(f\"Numero de nodos hoja: {model.get_n_leaves()}\")"
   ]
  },
  {
   "cell_type": "markdown",
   "id": "f8ff1182",
   "metadata": {},
   "source": [
    "### Parámetros del Modelo (Tuning)\n",
    "\n",
    "Dependiendo del modelo podemos \"ajustarlo\" iterando sobre los posibles valores de sus parámetros.\n",
    "\n",
    "A este procedimiento se le conoce como **\"Tuning\"**.\n",
    "\n",
    "Cada modelo de regresión y clasificación tiene parámetros ajustables."
   ]
  },
  {
   "cell_type": "markdown",
   "id": "c7888f9a",
   "metadata": {},
   "source": [
    "#### Parametros de DecisionTreeClassifier()\n",
    "\n",
    "- **`criterion`**: {\"gini\", \"entropy\"}, **default** = \"gini\"\n",
    "    - Es la función para medir la calidad de una división/split. Los criterios admitidos son \"gini\" para la impureza de Gini y \"entropía\" para la ganancia de información.\n",
    "\n",
    "___\n",
    "\n",
    "- **`splitter`**: {\"best\", \"random\"}, **default** = \"best\"\n",
    "    - Es la estrategia que usa el modelo para la división de cada nodo.\n",
    "    \n",
    "___\n",
    "\n",
    "- **`max_depth`**: int, **default** = None\n",
    "    - La profundidad máxima del árbol. Si es **None** los nodos se expanden hasta que todas las hojas sean puras o hasta que todas las hojas contengan menos de **`min_samples_split`** elementos.\n",
    "        \n",
    "___\n",
    "\n",
    "- **`min_samples_split`**: int or float, **default** = 2\n",
    "    - El número mínimo de muestras requeridas para dividir un nodo interno.\n",
    "    - Si es int, considera **`min_samples_split`** como el número mínimo.\n",
    "    - Si es float, entonces **`min_samples_split`** es una fracción y **`ceil(min_samples_split * n_samples)`** es el número mínimo de muestras para cada división/split.\n",
    "        \n",
    "___\n",
    "\n",
    "- **`min_samples_leaf`**: int or float, **`default`** = 1\n",
    "    - El número mínimo de muestras requeridas para llegar a nodo hoja. Es un punto de división a cualquier profundidad del arbol  solo se considerará si deja al menos **`min_samples_leaf`** muestras de entrenamiento en cada una de las ramas izquierda y derecha.\n",
    "    - Si es int, considera **`min_samples_leaf`** como el número mínimo.\n",
    "    - Si es float, entonces **`min_samples_split`** es una fracción y **`ceil(min_samples_leaf * n_samples)`** es el número mínimo de muestras para cada nodo.\n",
    "        \n",
    "___\n",
    "\n",
    "- **`min_weight_fraction_leaf`**: float, **`default`** = 0.0\n",
    "    - La fracción ponderada mínima de la suma total de pesos (de todas las muestras de entrada) requerida para estar en un nodo hoja. Las muestras tienen el mismo peso cuando no se proporciona **`sample_weight`**.\n",
    "\n",
    "- **`max_features`**: int, float or {\"auto\", \"sqrt\", \"log2\"}, **`default`** = None\n",
    "\n",
    "    - El número de características (atributos) a considerar al buscar la mejor división:\n",
    "    - Si es int, considera las funciones **`max_features`** en cada división.\n",
    "    - Si es float, **`max_features`** es una fracción y se consideran **`int(max_features * n_features)`** características (atributos) en cada división.\n",
    "    - Si es \"auto\", entonces **`max_features = sqrt(n_features)`**.\n",
    "    - Si es \"sqrt\", entonces **`max_features = sqrt(n_features)`**.\n",
    "    - Si es \"log2\", entonces **`max_features = log2(n_features)`**.\n",
    "    - Si None, entonces **`max_features = n_features`**.\n",
    "  \n",
    "___\n",
    "\n",
    "- **`random_state`**: int, **`default`** = None\n",
    "    - Controla la aleatoriedad del estimador. Las características (atributos) siempre se permutan aleatoriamente en cada división, incluso si el divisor está configurado como \"best\".\n",
    "    - Cuando **`max_features < n_features`**, el algoritmo seleccionará **`max_features`** al azar en cada división antes de encontrar la mejor división entre ellas. Pero la división mejor encontrada puede variar entre diferentes ejecuciones, incluso si **`max_features = n_features`**.\n",
    "    - Ese es el caso, si la mejora del criterio es idéntica para varias divisiones y una división debe seleccionarse al azar.\n",
    "    - Para obtener un comportamiento determinista durante el ajuste, **`random_state`** debe fijarse en un número entero.\n",
    "  \n",
    "___\n",
    "\n",
    "- **`max_leaf_nodes`**: int, **`default`** = None\n",
    "    - Este parámetro hace \"crecer\" el árbol ya que aumenta el número de nodos hoja.\n",
    "    - Se define como \"mejor nodo\" como una reducción relativa de la impureza.\n",
    "    - Si es None, entonces el modelo tendrá un número ilimitado de nodos hoja.\n",
    "      \n",
    "___\n",
    "\n",
    "- **`min_impurity_decrease`**: float, **`default`** = 0.0\n",
    "    - Un nodo se dividirá si esta división induce una disminución de la impureza mayor o igual a este valor.\n",
    "         \n",
    "___\n",
    "\n",
    "- **`class_weight`**: dict, list of dict or \"balanced\", **`default`** = None\n",
    "    - Pesos asociados a cada clases en la forma **`{class_label : weight}`**.\n",
    "    - Si es None, se supone que todas las clases tienen peso uno.\n",
    "    - Para problemas de clasificación múltiple, se puede proporcionar una lista de diccionarios en el mismo orden que la columna y.\n",
    "             \n",
    "___\n",
    "\n",
    "- **`ccp_alpha`**: non-negative float, **`default`** = 0.0\n",
    "    - Parámetro de complejidad utilizado para **Minimal Cost-Complexity Pruning**.\n",
    "    - Se elegirá el subárbol con la mayor complejidad de costos que sea menor que **`ccp_alpha`**. De forma predeterminada, no se realiza ninguna poda."
   ]
  },
  {
   "cell_type": "code",
   "execution_count": null,
   "id": "909ab4de",
   "metadata": {},
   "outputs": [],
   "source": [
    "# Dataset del titanic preprocesado en clase\n",
    "\n",
    "titanic = pd.read_csv(\"titanic_preprocesamiento.csv\")\n",
    "\n",
    "X = titanic.drop([\"Fare-Binning\", \"Age-Binning\", \"Survived\"], axis = 1)\n",
    "y = titanic[\"Survived\"]\n",
    "\n",
    "X_train, X_test, y_train, y_test = train_test_split(X, y, test_size = 0.3, random_state = 42)\n",
    "\n",
    "print(f\"X_train: {X_train.shape}, y_train: {y_train.shape}\")\n",
    "print(f\"X_test: {X_test.shape},  y_test: {y_test.shape}\")"
   ]
  },
  {
   "cell_type": "code",
   "execution_count": null,
   "id": "53851c42",
   "metadata": {},
   "outputs": [],
   "source": [
    "# Prueba con DecisionTreeClassifier() con parámetros por defecto\n",
    "\n",
    "model = DecisionTreeClassifier()\n",
    "\n",
    "# Entrenamiento\n",
    "model.fit(X_train, y_train)\n",
    "\n",
    "# Predicciones\n",
    "yhat = model.predict(X_test)\n",
    "\n",
    "# Métricas\n",
    "print(\"Jaccard Index:\", jaccard_score(y_test, yhat, average = \"macro\"))\n",
    "print(\"Accuracy:\"     , accuracy_score(y_test, yhat))\n",
    "print(\"Precisión:\"    , precision_score(y_test, yhat, average = \"macro\"))\n",
    "print(\"Sensibilidad:\" , recall_score(y_test, yhat, average = \"macro\"))\n",
    "print(\"F1-score:\"     , f1_score(y_test, yhat, average = \"macro\"))\n",
    "print(\"ROC AUC:\"      , roc_auc_score(y_test, yhat))"
   ]
  },
  {
   "cell_type": "code",
   "execution_count": null,
   "id": "a19e5609",
   "metadata": {},
   "outputs": [],
   "source": [
    "# Prueba con DecisionTreeClassifier() usando diferentes parámetros\n",
    "\n",
    "model = DecisionTreeClassifier(criterion = \"entropy\", splitter = \"random\",\n",
    "                               max_depth = 15, min_samples_split = 10, min_samples_leaf = 3,\n",
    "                               max_features = \"log2\", random_state = 42, max_leaf_nodes = 40)\n",
    "# Entrenamiento\n",
    "model.fit(X_train, y_train)\n",
    "\n",
    "# Predicciones\n",
    "yhat = model.predict(X_test)\n",
    "\n",
    "# Métricas\n",
    "print(\"Jaccard Index:\", jaccard_score(y_test, yhat, average = \"macro\"))\n",
    "print(\"Accuracy:\"     , accuracy_score(y_test, yhat))\n",
    "print(\"Precisión:\"    , precision_score(y_test, yhat, average = \"macro\"))\n",
    "print(\"Sensibilidad:\" , recall_score(y_test, yhat, average = \"macro\"))\n",
    "print(\"F1-score:\"     , f1_score(y_test, yhat, average = \"macro\"))\n",
    "print(\"ROC AUC:\"      , roc_auc_score(y_test, yhat))"
   ]
  },
  {
   "cell_type": "markdown",
   "id": "328d0579",
   "metadata": {},
   "source": [
    "**Ventajas:**\n",
    "\n",
    "- La principal ventaja de los árboles de decisión es lo fáciles que son de interpretar. Mientras que otros modelos de aprendizaje automático están cerca de ser \"black boxes\", los árboles de decisión proporcionan una forma gráfica e intuitiva de comprender lo que hace el algoritmo.\n",
    "- En comparación con otros algoritmos de aprendizaje automático, los árboles de decisión requieren menos datos para entrenar.\n",
    "- Se pueden utilizar para clasificación y regresión.\n",
    "- Son \"simples\".\n",
    "\n",
    "**Desventajas:**\n",
    "\n",
    "- Son bastante propensos a sobreajustarse (overfitting) a los datos de entrenamiento y pueden ser sensibles a los valores atípicos.\n",
    "- Son aprendices débiles: un solo árbol de decisión normalmente no hace grandes predicciones, por lo que a menudo se combinan múltiples árboles para hacer \"bosques\" para dar lugar a modelos de conjunto más fuertes."
   ]
  },
  {
   "cell_type": "code",
   "execution_count": null,
   "id": "e7baddbb",
   "metadata": {},
   "outputs": [],
   "source": [
    "################################################################################################################################"
   ]
  },
  {
   "cell_type": "markdown",
   "id": "1844d134",
   "metadata": {},
   "source": [
    "### Ejercicio 1:\n",
    "- Utilizando bucles anidados, itera sobre los parámetros del modelo **`DecisionTreeClassifier()`**, guarda en una lista el indice de la iteración, la métrica que quieras comparar y los parametros del modelo de forma tal:\n",
    "```python\n",
    "[indice, metrica, model.get_params]\n",
    "```\n",
    "- Donde **`indice`** es el indice del modelo, **`metrica`** es la métrica con la que vas a comparar y **`model`** un modelo de DecisionTreeClassifier() con los parámetros modificados.\n",
    "- Utiliza el dataset del titanic.\n",
    "- ¿Cuales son los mejores parámetros?\n",
    "- ¿Cuantas iteraciones se hicieron?\n",
    "- ¿Cual fue la mejor iteración?"
   ]
  },
  {
   "cell_type": "code",
   "execution_count": null,
   "id": "0921d276",
   "metadata": {},
   "outputs": [],
   "source": []
  },
  {
   "cell_type": "code",
   "execution_count": null,
   "id": "0f514214",
   "metadata": {},
   "outputs": [],
   "source": []
  },
  {
   "cell_type": "code",
   "execution_count": null,
   "id": "e8fd264a",
   "metadata": {},
   "outputs": [],
   "source": []
  },
  {
   "cell_type": "code",
   "execution_count": null,
   "id": "b84eac57",
   "metadata": {},
   "outputs": [],
   "source": []
  },
  {
   "cell_type": "code",
   "execution_count": null,
   "id": "865938ae",
   "metadata": {},
   "outputs": [],
   "source": []
  },
  {
   "cell_type": "code",
   "execution_count": null,
   "id": "8d74b91b",
   "metadata": {},
   "outputs": [],
   "source": []
  },
  {
   "cell_type": "code",
   "execution_count": null,
   "id": "afa7cdef",
   "metadata": {},
   "outputs": [],
   "source": []
  }
 ],
 "metadata": {
  "kernelspec": {
   "display_name": "Python 3 (ipykernel)",
   "language": "python",
   "name": "python3"
  },
  "language_info": {
   "codemirror_mode": {
    "name": "ipython",
    "version": 3
   },
   "file_extension": ".py",
   "mimetype": "text/x-python",
   "name": "python",
   "nbconvert_exporter": "python",
   "pygments_lexer": "ipython3",
   "version": "3.9.7"
  }
 },
 "nbformat": 4,
 "nbformat_minor": 5
}
