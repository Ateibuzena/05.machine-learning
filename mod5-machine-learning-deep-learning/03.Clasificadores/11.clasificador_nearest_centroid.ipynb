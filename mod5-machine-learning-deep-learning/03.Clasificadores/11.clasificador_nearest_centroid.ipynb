{
 "cells": [
  {
   "attachments": {
    "ml_14.png": {
     "image/png": "[encoded data removed]"
    }
   },
   "cell_type": "markdown",
   "id": "cf31fb4b",
   "metadata": {},
   "source": [
    "## Nearest Centroid Classifier (Clasificador Euclideano)\n",
    "\n",
    "Es un algoritmo de aprendizaje supervisado. Este algoritmo consiste en **\"condensar\"** la información del conjunto de entrenamiento en **centroides (centros de nubes de puntos)** para hacer predicciones a nuevos patrones, **asignando cada nuevo patron al centroide más cercano**. \n",
    "\n",
    "**Un centroide es el centro geométrico de un conjunto de datos, éste algoritmo utiliza la media para calcular el centro geométrico. En múltiples dimensiones, este sería el valor medio a lo largo de cada dimensión, formando un punto de centro de la distribución a través de cada variable.**\n",
    "\n",
    "El algoritmo asume que los centroides en el espacio de características (atributos) de entrada son diferentes para cada etiqueta de destino, es decir, que **no existen dos o más centroides iguales para una etiqueta**.\n",
    "\n",
    "**Los centroides \"representan\" el modelo. Dados nuevos patrones se calcula la distancia entre cada patron y cada centroide y se usa el centroide más cercano para hacer la predicción.**\n",
    "\n",
    "![ml_14.png](attachment:ml_14.png)\n",
    "\n",
    "_**Documentacion:** https://scikit-learn.org/stable/modules/generated/sklearn.neighbors.NearestCentroid.html_"
   ]
  },
  {
   "cell_type": "code",
   "execution_count": null,
   "id": "685dc19d",
   "metadata": {},
   "outputs": [],
   "source": [
    "import numpy as np\n",
    "import pandas as pd\n",
    "import matplotlib.pyplot as plt\n",
    "import seaborn as sns\n",
    "\n",
    "from sklearn import datasets\n",
    "\n",
    "from sklearn.preprocessing import MinMaxScaler\n",
    "\n",
    "from sklearn.model_selection import train_test_split"
   ]
  },
  {
   "cell_type": "code",
   "execution_count": null,
   "id": "a4d75c54",
   "metadata": {},
   "outputs": [],
   "source": [
    "iris = datasets.load_iris()\n",
    "X = iris.data\n",
    "y = iris.target"
   ]
  },
  {
   "cell_type": "markdown",
   "id": "20b3a1af",
   "metadata": {},
   "source": [
    "### Procesamiento"
   ]
  },
  {
   "cell_type": "code",
   "execution_count": null,
   "id": "eaefc1f3",
   "metadata": {},
   "outputs": [],
   "source": [
    "# Normalización de datos\n",
    "\n",
    "x_scaler = MinMaxScaler()\n",
    "X = x_scaler.fit_transform(X)\n",
    "\n",
    "X"
   ]
  },
  {
   "cell_type": "markdown",
   "id": "dd7b51f2",
   "metadata": {},
   "source": [
    "### Train, Test"
   ]
  },
  {
   "cell_type": "code",
   "execution_count": null,
   "id": "18076273",
   "metadata": {},
   "outputs": [],
   "source": [
    "X_train, X_test, y_train, y_test = train_test_split(X, y, test_size = 0.3, random_state = 42)\n",
    "\n",
    "print(f\"X_train: {X_train.shape}, y_train: {y_train.shape}\")\n",
    "print(f\"X_test: {X_test.shape},  y_test: {y_test.shape}\")"
   ]
  },
  {
   "cell_type": "markdown",
   "id": "99c1a105",
   "metadata": {},
   "source": [
    "### Modelo"
   ]
  },
  {
   "cell_type": "code",
   "execution_count": null,
   "id": "d49b6a8d",
   "metadata": {},
   "outputs": [],
   "source": [
    "from sklearn.neighbors import NearestCentroid"
   ]
  },
  {
   "cell_type": "code",
   "execution_count": null,
   "id": "c51c1e40",
   "metadata": {},
   "outputs": [],
   "source": [
    "# NearestCentroid\n",
    "\n",
    "model = NearestCentroid(metric = \"euclidean\")\n",
    "\n",
    "model.fit(X_train, y_train)"
   ]
  },
  {
   "cell_type": "markdown",
   "id": "4ea9536a",
   "metadata": {},
   "source": [
    "### Predicciones"
   ]
  },
  {
   "cell_type": "code",
   "execution_count": null,
   "id": "0a0cfb1e",
   "metadata": {},
   "outputs": [],
   "source": [
    "yhat = model.predict(X_test)\n",
    "\n",
    "yhat"
   ]
  },
  {
   "cell_type": "markdown",
   "id": "c2181f47",
   "metadata": {},
   "source": [
    "### Métricas"
   ]
  },
  {
   "cell_type": "code",
   "execution_count": null,
   "id": "642e4486",
   "metadata": {},
   "outputs": [],
   "source": [
    "from sklearn.metrics import jaccard_score\n",
    "from sklearn.metrics import accuracy_score\n",
    "from sklearn.metrics import precision_score\n",
    "from sklearn.metrics import recall_score\n",
    "from sklearn.metrics import f1_score\n",
    "from sklearn.metrics import roc_auc_score\n",
    "\n",
    "from sklearn.metrics import confusion_matrix\n",
    "from sklearn.metrics import classification_report"
   ]
  },
  {
   "cell_type": "code",
   "execution_count": null,
   "id": "fa482010",
   "metadata": {},
   "outputs": [],
   "source": [
    "print(\"Jaccard Index:\", jaccard_score(y_test, yhat, average = \"macro\"))\n",
    "print(\"Accuracy:\"     , accuracy_score(y_test, yhat))\n",
    "print(\"Precisión:\"    , precision_score(y_test, yhat, average = \"macro\"))\n",
    "print(\"Sensibilidad:\" , recall_score(y_test, yhat, average = \"macro\"))\n",
    "print(\"F1-score:\"     , f1_score(y_test, yhat, average = \"macro\"))"
   ]
  },
  {
   "cell_type": "markdown",
   "id": "514a5214",
   "metadata": {},
   "source": [
    "### Confusion Matrix"
   ]
  },
  {
   "cell_type": "code",
   "execution_count": null,
   "id": "30dfe6be",
   "metadata": {},
   "outputs": [],
   "source": [
    "confusion_matrix(y_test, yhat, labels = [0, 1, 2])"
   ]
  },
  {
   "cell_type": "markdown",
   "id": "293cc40d",
   "metadata": {},
   "source": [
    "### Classification Report"
   ]
  },
  {
   "cell_type": "code",
   "execution_count": null,
   "id": "2c98a54f",
   "metadata": {},
   "outputs": [],
   "source": [
    "print(classification_report(y_test, yhat, digits = 3))"
   ]
  },
  {
   "cell_type": "markdown",
   "id": "91b18cf1",
   "metadata": {},
   "source": [
    "### Atributos del Modelo"
   ]
  },
  {
   "cell_type": "code",
   "execution_count": null,
   "id": "326860ac",
   "metadata": {},
   "outputs": [],
   "source": [
    "# .centroids_ retorna un array con los centroides del modelo, uno por cada clase. \n",
    "\n",
    "model.centroids_"
   ]
  },
  {
   "cell_type": "code",
   "execution_count": null,
   "id": "49950460",
   "metadata": {},
   "outputs": [],
   "source": [
    "# .classes_ retorna las etiquetas de la variable objetivo\n",
    "\n",
    "model.classes_"
   ]
  },
  {
   "cell_type": "code",
   "execution_count": null,
   "id": "08c67e2c",
   "metadata": {},
   "outputs": [],
   "source": [
    "# .n_features_in_ retorna el número de atributos (columnas) de los centroides\n",
    "\n",
    "model.n_features_in_"
   ]
  },
  {
   "cell_type": "markdown",
   "id": "e5547fde",
   "metadata": {},
   "source": [
    "### Centroides y nubes de puntos"
   ]
  },
  {
   "cell_type": "code",
   "execution_count": null,
   "id": "8d1c38ab",
   "metadata": {},
   "outputs": [],
   "source": [
    "a, b = 0, 1\n",
    "\n",
    "plt.figure(figsize = (12, 8))\n",
    "\n",
    "sns.scatterplot(x = X[:, a], y = X[:, b], hue = y, palette = \"viridis\")\n",
    "\n",
    "plt.plot(model.centroids_[0][a], model.centroids_[0][b], marker = \"*\", markersize = 12, color = \"red\")\n",
    "plt.plot(model.centroids_[1][a], model.centroids_[1][b], marker = \"*\", markersize = 12, color = \"red\")\n",
    "plt.plot(model.centroids_[2][a], model.centroids_[2][b], marker = \"*\", markersize = 12, color = \"red\")\n",
    "\n",
    "plt.show()"
   ]
  },
  {
   "cell_type": "code",
   "execution_count": null,
   "id": "e1813807",
   "metadata": {},
   "outputs": [],
   "source": [
    "for i in range(4):\n",
    "    for j in range(4):\n",
    "        if i != j:\n",
    "\n",
    "            plt.figure(figsize = (8, 5))\n",
    "\n",
    "            sns.scatterplot(x = X[:, i], y = X[:, j], hue = y, palette = \"viridis\")\n",
    "\n",
    "            plt.plot(model.centroids_[0][i], model.centroids_[0][j], marker = \"*\", markersize = 12, color = \"red\")\n",
    "            plt.plot(model.centroids_[1][i], model.centroids_[1][j], marker = \"*\", markersize = 12, color = \"red\")\n",
    "            plt.plot(model.centroids_[2][i], model.centroids_[2][j], marker = \"*\", markersize = 12, color = \"red\")\n",
    "\n",
    "            plt.show()"
   ]
  },
  {
   "cell_type": "code",
   "execution_count": null,
   "id": "0a528b1e",
   "metadata": {},
   "outputs": [],
   "source": [
    "################################################################################################################################"
   ]
  },
  {
   "cell_type": "markdown",
   "id": "e21dfa6b",
   "metadata": {},
   "source": [
    "### Ejercicio 1: \n",
    "- Utiliza el dataset del titanic para practicar **`NearestCentroid`**:"
   ]
  },
  {
   "cell_type": "code",
   "execution_count": null,
   "id": "e37e896a",
   "metadata": {},
   "outputs": [],
   "source": []
  },
  {
   "cell_type": "code",
   "execution_count": null,
   "id": "11c2ce87",
   "metadata": {},
   "outputs": [],
   "source": []
  },
  {
   "cell_type": "code",
   "execution_count": null,
   "id": "8eba580f",
   "metadata": {},
   "outputs": [],
   "source": []
  },
  {
   "cell_type": "code",
   "execution_count": null,
   "id": "531b776b",
   "metadata": {},
   "outputs": [],
   "source": []
  },
  {
   "cell_type": "code",
   "execution_count": null,
   "id": "e137b9cc",
   "metadata": {},
   "outputs": [],
   "source": []
  },
  {
   "cell_type": "code",
   "execution_count": null,
   "id": "873194eb",
   "metadata": {},
   "outputs": [],
   "source": []
  },
  {
   "cell_type": "code",
   "execution_count": null,
   "id": "3f2f5de9",
   "metadata": {},
   "outputs": [],
   "source": []
  },
  {
   "cell_type": "markdown",
   "id": "40d760a1",
   "metadata": {},
   "source": [
    "### Ejercicio 2:\n",
    "- Intenta recrear el algormito de **`NearestCentroid`**:\n",
    "1. Sea **`x`** un patron de prueba a clasificar.\n",
    "2. Se calculan los **`n-centroides`** (uno para cada clase).\n",
    "3. Se calcula la distancia entre los **`n-centroides`** y el patron.\n",
    "5. Asigna la clase del centroide más cercano al nuevo patron.\n",
    "6. Repite el algoritmo con otra formula de distancia."
   ]
  },
  {
   "cell_type": "code",
   "execution_count": null,
   "id": "fd74d7a4",
   "metadata": {},
   "outputs": [],
   "source": []
  },
  {
   "cell_type": "code",
   "execution_count": null,
   "id": "b26765fa",
   "metadata": {},
   "outputs": [],
   "source": []
  },
  {
   "cell_type": "code",
   "execution_count": null,
   "id": "e11dad51",
   "metadata": {},
   "outputs": [],
   "source": []
  },
  {
   "cell_type": "code",
   "execution_count": null,
   "id": "dd9caff0",
   "metadata": {},
   "outputs": [],
   "source": []
  },
  {
   "cell_type": "code",
   "execution_count": null,
   "id": "593a649d",
   "metadata": {},
   "outputs": [],
   "source": []
  },
  {
   "cell_type": "code",
   "execution_count": null,
   "id": "782da769",
   "metadata": {},
   "outputs": [],
   "source": []
  },
  {
   "cell_type": "code",
   "execution_count": null,
   "id": "4cd61306",
   "metadata": {},
   "outputs": [],
   "source": []
  }
 ],
 "metadata": {
  "kernelspec": {
   "display_name": "Python 3 (ipykernel)",
   "language": "python",
   "name": "python3"
  },
  "language_info": {
   "codemirror_mode": {
    "name": "ipython",
    "version": 3
   },
   "file_extension": ".py",
   "mimetype": "text/x-python",
   "name": "python",
   "nbconvert_exporter": "python",
   "pygments_lexer": "ipython3",
   "version": "3.9.7"
  }
 },
 "nbformat": 4,
 "nbformat_minor": 5
}
